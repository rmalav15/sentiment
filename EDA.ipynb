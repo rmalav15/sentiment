{
 "cells": [
  {
   "cell_type": "code",
   "execution_count": 16,
   "metadata": {},
   "outputs": [],
   "source": [
    "import warnings\n",
    "# Comment this\n",
    "warnings.filterwarnings('ignore')  \n",
    "\n",
    "import pandas as pd\n",
    "from utils import clean_text, plot_confusion_matrix\n",
    "import numpy as np\n",
    "from collections import Counter\n",
    "\n",
    "from sklearn.feature_extraction.text import TfidfVectorizer\n",
    "from sklearn.model_selection import GridSearchCV, cross_validate, KFold\n",
    "from sklearn.ensemble import RandomForestClassifier, AdaBoostClassifier\n",
    "from sklearn.neighbors import KNeighborsClassifier\n",
    "from sklearn.svm import SVC\n",
    "from sklearn.model_selection import train_test_split\n",
    "from sklearn.metrics import confusion_matrix\n",
    "from sklearn.utils.multiclass import unique_labels\n",
    "\n",
    "from imblearn.over_sampling import SMOTE\n",
    "from imblearn.combine import SMOTEENN\n",
    "\n",
    "import matplotlib\n",
    "import matplotlib.pyplot as plt\n",
    "import seaborn as sns\n",
    "%matplotlib inline\n",
    "\n",
    "RANDOM_STATE = 42"
   ]
  },
  {
   "cell_type": "markdown",
   "metadata": {},
   "source": [
    "### Loading Data"
   ]
  },
  {
   "cell_type": "code",
   "execution_count": 2,
   "metadata": {
    "scrolled": false
   },
   "outputs": [
    {
     "data": {
      "text/html": [
       "<div>\n",
       "<style scoped>\n",
       "    .dataframe tbody tr th:only-of-type {\n",
       "        vertical-align: middle;\n",
       "    }\n",
       "\n",
       "    .dataframe tbody tr th {\n",
       "        vertical-align: top;\n",
       "    }\n",
       "\n",
       "    .dataframe thead th {\n",
       "        text-align: right;\n",
       "    }\n",
       "</style>\n",
       "<table border=\"1\" class=\"dataframe\">\n",
       "  <thead>\n",
       "    <tr style=\"text-align: right;\">\n",
       "      <th></th>\n",
       "      <th>id</th>\n",
       "      <th>App Version Code</th>\n",
       "      <th>App Version Name</th>\n",
       "      <th>Review Text</th>\n",
       "      <th>Review Title</th>\n",
       "      <th>Star Rating</th>\n",
       "    </tr>\n",
       "  </thead>\n",
       "  <tbody>\n",
       "    <tr>\n",
       "      <th>0</th>\n",
       "      <td>b817b0f0-a2f8-4c9d-a5f6-d3fbf8b1d7e9</td>\n",
       "      <td>NaN</td>\n",
       "      <td>NaN</td>\n",
       "      <td>Very bad wallet balance not use.</td>\n",
       "      <td>NaN</td>\n",
       "      <td>1</td>\n",
       "    </tr>\n",
       "    <tr>\n",
       "      <th>1</th>\n",
       "      <td>c7844e8f-56c1-487b-ae3e-df2fdf4c1767</td>\n",
       "      <td>43.0</td>\n",
       "      <td>2.30</td>\n",
       "      <td>Froud app i recharge 199 but not done also sen...</td>\n",
       "      <td>NaN</td>\n",
       "      <td>1</td>\n",
       "    </tr>\n",
       "    <tr>\n",
       "      <th>2</th>\n",
       "      <td>93ff57f7-9e02-4fa9-b779-3db82b8af0a4</td>\n",
       "      <td>52.0</td>\n",
       "      <td>2.12</td>\n",
       "      <td>Waste to write comments also</td>\n",
       "      <td>Waste no use</td>\n",
       "      <td>2</td>\n",
       "    </tr>\n",
       "    <tr>\n",
       "      <th>3</th>\n",
       "      <td>df2dcdef-c09a-4f35-afab-e1231d3fec9a</td>\n",
       "      <td>62.0</td>\n",
       "      <td>2.21</td>\n",
       "      <td>Nice apo</td>\n",
       "      <td>NaN</td>\n",
       "      <td>5</td>\n",
       "    </tr>\n",
       "    <tr>\n",
       "      <th>4</th>\n",
       "      <td>11f8f968-4cec-4424-8427-9709ab05b5be</td>\n",
       "      <td>69.0</td>\n",
       "      <td>2.28</td>\n",
       "      <td>Good nice app</td>\n",
       "      <td>NaN</td>\n",
       "      <td>5</td>\n",
       "    </tr>\n",
       "  </tbody>\n",
       "</table>\n",
       "</div>"
      ],
      "text/plain": [
       "                                     id  App Version Code  App Version Name  \\\n",
       "0  b817b0f0-a2f8-4c9d-a5f6-d3fbf8b1d7e9               NaN               NaN   \n",
       "1  c7844e8f-56c1-487b-ae3e-df2fdf4c1767              43.0              2.30   \n",
       "2  93ff57f7-9e02-4fa9-b779-3db82b8af0a4              52.0              2.12   \n",
       "3  df2dcdef-c09a-4f35-afab-e1231d3fec9a              62.0              2.21   \n",
       "4  11f8f968-4cec-4424-8427-9709ab05b5be              69.0              2.28   \n",
       "\n",
       "                                         Review Text  Review Title  \\\n",
       "0                   Very bad wallet balance not use.           NaN   \n",
       "1  Froud app i recharge 199 but not done also sen...           NaN   \n",
       "2                       Waste to write comments also  Waste no use   \n",
       "3                                           Nice apo           NaN   \n",
       "4                                      Good nice app           NaN   \n",
       "\n",
       "   Star Rating  \n",
       "0            1  \n",
       "1            1  \n",
       "2            2  \n",
       "3            5  \n",
       "4            5  "
      ]
     },
     "execution_count": 2,
     "metadata": {},
     "output_type": "execute_result"
    }
   ],
   "source": [
    "df = pd.read_csv(\"train.csv\")\n",
    "df.head()"
   ]
  },
  {
   "cell_type": "markdown",
   "metadata": {},
   "source": [
    "### Data Insights and Processing"
   ]
  },
  {
   "cell_type": "code",
   "execution_count": 3,
   "metadata": {
    "scrolled": false
   },
   "outputs": [
    {
     "name": "stdout",
     "output_type": "stream",
     "text": [
      "<class 'pandas.core.frame.DataFrame'>\n",
      "RangeIndex: 5693 entries, 0 to 5692\n",
      "Data columns (total 6 columns):\n",
      "id                  5693 non-null object\n",
      "App Version Code    4554 non-null float64\n",
      "App Version Name    4554 non-null float64\n",
      "Review Text         5692 non-null object\n",
      "Review Title        602 non-null object\n",
      "Star Rating         5693 non-null int64\n",
      "dtypes: float64(2), int64(1), object(3)\n",
      "memory usage: 266.9+ KB\n"
     ]
    }
   ],
   "source": [
    "df.info()"
   ]
  },
  {
   "cell_type": "markdown",
   "metadata": {},
   "source": [
    "* Only one \"Review Text\" is NULL\n",
    "* Many \"Review Title\" are NULL"
   ]
  },
  {
   "cell_type": "code",
   "execution_count": 4,
   "metadata": {},
   "outputs": [
    {
     "name": "stdout",
     "output_type": "stream",
     "text": [
      "id                  e5c14e2d-ab19-48c6-a19f-ed19f21c0851\n",
      "App Version Code                                     NaN\n",
      "App Version Name                                     NaN\n",
      "Review Text                                          NaN\n",
      "Review Title                           Fine but not good\n",
      "Star Rating                                            3\n",
      "Name: 1556, dtype: object\n"
     ]
    }
   ],
   "source": [
    "# Print the row with \"Review Text\" to check wether we can use the title.\n",
    "review_nan_index = df.index[df[\"Review Text\"].isna()][0]\n",
    "print(df.iloc[review_nan_index])"
   ]
  },
  {
   "cell_type": "markdown",
   "metadata": {},
   "source": [
    "- Looks usable"
   ]
  },
  {
   "cell_type": "code",
   "execution_count": 5,
   "metadata": {},
   "outputs": [
    {
     "data": {
      "text/html": [
       "<div>\n",
       "<style scoped>\n",
       "    .dataframe tbody tr th:only-of-type {\n",
       "        vertical-align: middle;\n",
       "    }\n",
       "\n",
       "    .dataframe tbody tr th {\n",
       "        vertical-align: top;\n",
       "    }\n",
       "\n",
       "    .dataframe thead th {\n",
       "        text-align: right;\n",
       "    }\n",
       "</style>\n",
       "<table border=\"1\" class=\"dataframe\">\n",
       "  <thead>\n",
       "    <tr style=\"text-align: right;\">\n",
       "      <th></th>\n",
       "      <th>sentiment</th>\n",
       "      <th>text</th>\n",
       "    </tr>\n",
       "  </thead>\n",
       "  <tbody>\n",
       "    <tr>\n",
       "      <th>0</th>\n",
       "      <td>1</td>\n",
       "      <td>Very bad wallet balance not use.</td>\n",
       "    </tr>\n",
       "    <tr>\n",
       "      <th>1</th>\n",
       "      <td>1</td>\n",
       "      <td>Froud app i recharge 199 but not done also se...</td>\n",
       "    </tr>\n",
       "    <tr>\n",
       "      <th>2</th>\n",
       "      <td>2</td>\n",
       "      <td>Waste no use Waste to write comments also</td>\n",
       "    </tr>\n",
       "    <tr>\n",
       "      <th>3</th>\n",
       "      <td>5</td>\n",
       "      <td>Nice apo</td>\n",
       "    </tr>\n",
       "    <tr>\n",
       "      <th>4</th>\n",
       "      <td>5</td>\n",
       "      <td>Good nice app</td>\n",
       "    </tr>\n",
       "  </tbody>\n",
       "</table>\n",
       "</div>"
      ],
      "text/plain": [
       "   sentiment                                               text\n",
       "0          1                   Very bad wallet balance not use.\n",
       "1          1   Froud app i recharge 199 but not done also se...\n",
       "2          2          Waste no use Waste to write comments also\n",
       "3          5                                           Nice apo\n",
       "4          5                                      Good nice app"
      ]
     },
     "execution_count": 5,
     "metadata": {},
     "output_type": "execute_result"
    }
   ],
   "source": [
    "# Replace Nan with empty string\n",
    "df.fillna(\"\", inplace=True)\n",
    "\n",
    "# df[\"sentence\"] = df.apply(lambda row: ) \n",
    "df['text'] = df['Review Title'] + \" \" + df['Review Text']\n",
    "df.drop([\"Review Text\", \"Review Title\", \"id\", \"App Version Code\", \"App Version Name\"], \n",
    "        inplace=True, axis=1)\n",
    "df.rename(columns={\"Star Rating\":\"sentiment\"}, inplace=True)\n",
    "df.head()"
   ]
  },
  {
   "cell_type": "markdown",
   "metadata": {},
   "source": [
    "Need to take care of wrong spelling, Hindi Words\n",
    " - Use char level models: FastTxt\n",
    " - SpellCheckers"
   ]
  },
  {
   "cell_type": "markdown",
   "metadata": {},
   "source": [
    "###  Clean Text"
   ]
  },
  {
   "cell_type": "code",
   "execution_count": 6,
   "metadata": {},
   "outputs": [],
   "source": [
    "df.text = df.text.apply(clean_text)\n",
    "df[\"word_count\"] = df.text.apply(lambda para : len(para.split()))"
   ]
  },
  {
   "cell_type": "markdown",
   "metadata": {},
   "source": [
    "### Visualizing Data"
   ]
  },
  {
   "cell_type": "code",
   "execution_count": 7,
   "metadata": {},
   "outputs": [
    {
     "data": {
      "image/png": "[encoded data removed]",
      "text/plain": [
       "<matplotlib.figure.Figure at 0x7f25a3cd5f28>"
      ]
     },
     "metadata": {
      "needs_background": "light"
     },
     "output_type": "display_data"
    }
   ],
   "source": [
    "# checking class imbalance\n",
    "ax = df.sentiment.value_counts().plot(kind='bar',\n",
    "                                title='Class Distribution')\n",
    "ax.set_xlabel(\"Ratings\")\n",
    "ax.set_ylabel(\"Count\")\n",
    "plt.show()"
   ]
  },
  {
   "cell_type": "code",
   "execution_count": 8,
   "metadata": {},
   "outputs": [
    {
     "data": {
      "image/png": "[encoded data removed]",
      "text/plain": [
       "<matplotlib.figure.Figure at 0x7f2650e078d0>"
      ]
     },
     "metadata": {
      "needs_background": "light"
     },
     "output_type": "display_data"
    }
   ],
   "source": [
    "# Review Text Word Count Distribution\n",
    "# sns.distplot(df.word_count)\n",
    "ax = df.word_count.plot(kind='hist', \n",
    "                        bins = 50,\n",
    "                        title='Review Text Word Count Distribution')\n",
    "ax.set_xlabel(\"Word Count\")\n",
    "ax.set_ylabel(\"Count\")\n",
    "ax.set_xlim(-10, 80)\n",
    "plt.show()"
   ]
  },
  {
   "cell_type": "code",
   "execution_count": 9,
   "metadata": {
    "scrolled": false
   },
   "outputs": [
    {
     "name": "stdout",
     "output_type": "stream",
     "text": [
      "          word_count                                                         \\\n",
      "text              aa abhishek akakakw amaz aswm averag awasom awesom awosom   \n",
      "sentiment                                                                     \n",
      "1                NaN      NaN     NaN  NaN  NaN    NaN    NaN    NaN    NaN   \n",
      "2                NaN      1.0     NaN  NaN  NaN    NaN    NaN    NaN    NaN   \n",
      "3                NaN      NaN     NaN  NaN  NaN    1.0    NaN    NaN    NaN   \n",
      "4                NaN      NaN     NaN  1.0  NaN    NaN    NaN    5.0    NaN   \n",
      "5                1.0      NaN     1.0  8.0  1.0    NaN    1.0   62.0    1.0   \n",
      "\n",
      "                ...                                                       \\\n",
      "text      awsm  ... winking_fac wonder worest wors worst  wow wrost   ye   \n",
      "sentiment       ...                                                        \n",
      "1          NaN  ...         NaN    NaN    1.0  1.0   7.0  NaN   1.0  NaN   \n",
      "2          NaN  ...         NaN    NaN    NaN  NaN   NaN  NaN   NaN  NaN   \n",
      "3          NaN  ...         NaN    NaN    NaN  NaN   1.0  NaN   NaN  NaN   \n",
      "4          NaN  ...         NaN    NaN    NaN  NaN   NaN  NaN   NaN  NaN   \n",
      "5          1.0  ...         1.0    2.0    NaN  NaN   NaN  1.0   NaN  1.0   \n",
      "\n",
      "                                                     \n",
      "text      yupbeaming_face_with_smiling_ey zabardast  \n",
      "sentiment                                            \n",
      "1                                     NaN       NaN  \n",
      "2                                     NaN       NaN  \n",
      "3                                     NaN       NaN  \n",
      "4                                     NaN       NaN  \n",
      "5                                     1.0       1.0  \n",
      "\n",
      "[5 rows x 167 columns]\n"
     ]
    }
   ],
   "source": [
    "# Need to use fasttxt, Checkign if small lens are outliers.\n",
    "\n",
    "# Outliers, but seems like it can be used, otherwise less data\n",
    "# Try keeping and removing both\n",
    "single_word_table = pd.pivot_table(df[df.word_count == 1], columns=[\"text\"], index=[\"sentiment\"],\n",
    "                                  aggfunc = 'count')\n",
    "print(single_word_table)"
   ]
  },
  {
   "cell_type": "code",
   "execution_count": 10,
   "metadata": {},
   "outputs": [
    {
     "name": "stdout",
     "output_type": "stream",
     "text": [
      "<class 'pandas.core.frame.DataFrame'>\n",
      "RangeIndex: 5693 entries, 0 to 5692\n",
      "Data columns (total 3 columns):\n",
      "sentiment     5693 non-null int64\n",
      "text          5693 non-null object\n",
      "word_count    5693 non-null int64\n",
      "dtypes: int64(2), object(1)\n",
      "memory usage: 133.5+ KB\n"
     ]
    }
   ],
   "source": [
    "# Rechecking df before training\n",
    "df.info()"
   ]
  },
  {
   "cell_type": "markdown",
   "metadata": {},
   "source": [
    "### Learning"
   ]
  },
  {
   "cell_type": "code",
   "execution_count": 11,
   "metadata": {
    "scrolled": true
   },
   "outputs": [],
   "source": [
    "# Model\n",
    "# Return Model List, Model Socre, Best Model\n",
    "# Verbose: True: print cross validation results\n",
    "def train_model(X, y, verbose = True):\n",
    "    svm_pgrid = {\"C\": [1, 3],\n",
    "                \"kernel\": ['rbf', 'poly'],\n",
    "                \"class_weight\":[None, \"balanced\"]}\n",
    "\n",
    "    rf_pgrid = {\"n_estimators\": [10, 50, 100, 250],\n",
    "                \"max_depth\": [2, 5, 10, 15],\n",
    "                \"class_weight\":[None, \"balanced\"]}\n",
    "\n",
    "    nn_pgrid = {\"n_neighbors\": [5, 10, 15]}\n",
    "\n",
    "    cv = 5 # 5-fold\n",
    "    scoring_metric = 'f1_weighted'\n",
    "\n",
    "    # Classifiers with GridSearchCv with startifiedKfold and \n",
    "    # wieghtedf1 score and balanced\n",
    "    classifiers = [\n",
    "#         [\"SVC\", GridSearchCV(estimator=SVC(), \n",
    "#                              param_grid=svm_pgrid, cv=cv, \n",
    "#                              scoring=scoring_metric, iid=False)],\n",
    "        [\"Random Forest\", GridSearchCV(estimator=RandomForestClassifier(),\n",
    "                                      param_grid=rf_pgrid, cv=cv,\n",
    "                                      scoring=scoring_metric, iid=False)],\n",
    "        [\"Nearest Neighbour\", GridSearchCV(estimator=KNeighborsClassifier(),\n",
    "                                          param_grid=nn_pgrid, cv=cv, \n",
    "                                        scoring=scoring_metric, iid=False)]\n",
    "    ]\n",
    "    \n",
    "    CV_classifiers = []\n",
    "    CV_best_scores = []\n",
    "    \n",
    "    for name, clf in classifiers:\n",
    "        clf.fit(X, y)\n",
    "        CV_classifiers.append(clf.best_estimator_)\n",
    "        CV_best_scores.append(clf.best_score_)\n",
    "        if verbose:\n",
    "            print(\"--------------------------------------------------------------\")\n",
    "            print(\"Cross Validation Results for:\", name)\n",
    "            print(clf.cv_results_)\n",
    "            print(\"--------------------------------------------------------------\\n\\n\")\n",
    "        print(\"Classifier:\", name, \"=> Wieghted F1:\", clf.best_score_)\n",
    "        print(\"Best Params:\")\n",
    "        print(clf.best_params_)\n",
    "        \n",
    "    best_model = CV_classifiers[CV_best_scores.index(max(CV_best_scores))]\n",
    "    return CV_classifiers, CV_best_scores, best_model, max(CV_best_scores)\n"
   ]
  },
  {
   "cell_type": "code",
   "execution_count": 14,
   "metadata": {},
   "outputs": [],
   "source": [
    "# Print Confusion Matrix\n",
    "# Warning: will again train (for separating validation data) the model. \n",
    "def retrain_best_param_model_confusion(model, X, y, title=\"Confusion Matrix\"):\n",
    "    X_train, X_test, y_train, y_test = train_test_split(X, y, test_size=0.25, random_state=RANDOM_STATE)\n",
    "    y_pred = model.fit(X_train, y_train).predict(X_test)\n",
    "    #print(confusion_matrix(y_test, y_pred))\n",
    "    ax = plot_confusion_matrix(y_test, y_pred, [\"1\",\"2\",\"3\",\"4\",\"5\"], title=title)\n",
    "    plt.show()"
   ]
  },
  {
   "cell_type": "code",
   "execution_count": 13,
   "metadata": {},
   "outputs": [
    {
     "name": "stdout",
     "output_type": "stream",
     "text": [
      "Classifier: Random Forest => Wieghted F1: 0.6713076295402983\n",
      "Best Params:\n",
      "{'class_weight': 'balanced', 'n_estimators': 100, 'max_depth': 15}\n",
      "Classifier: Nearest Neighbour => Wieghted F1: 0.6634074847622011\n",
      "Best Params:\n",
      "{'n_neighbors': 15}\n",
      "Best F1 score: 0.6713076295402983\n",
      "Confusion matrix, without normalization\n",
      "[[343   9  11   6  52]\n",
      " [ 15   0   1   5  11]\n",
      " [ 28   2   7  11  17]\n",
      " [ 21   0   1  49  85]\n",
      " [ 32   1   3 174 540]]\n"
     ]
    },
    {
     "data": {
      "image/png": "[encoded data removed]",
      "text/plain": [
       "<matplotlib.figure.Figure at 0x7f25a195f0f0>"
      ]
     },
     "metadata": {
      "needs_background": "light"
     },
     "output_type": "display_data"
    }
   ],
   "source": [
    "# TF-IDF feature\n",
    "tfidf_vectorizer = TfidfVectorizer(use_idf=True, max_df=1.0, min_df=1)\n",
    "Xnorm = tfidf_vectorizer.fit_transform(df.text)\n",
    "ynorm = df.sentiment.to_list()\n",
    "model, score, best_model_norm, best_score = train_model(Xnorm, ynorm, verbose=False)\n",
    "print(\"Best F1 score:\", best_score)\n",
    "retrain_best_param_model_confusion(best_model_norm, Xnorm, ynorm, title=\"Confusion Matrix With Normal Data\")"
   ]
  },
  {
   "cell_type": "code",
   "execution_count": 18,
   "metadata": {},
   "outputs": [
    {
     "name": "stdout",
     "output_type": "stream",
     "text": [
      "Counter({1: 2923, 2: 2923, 3: 2923, 4: 2923, 5: 2923})\n",
      "Classifier: Random Forest => Wieghted F1: 0.7648080179759413\n",
      "Best Params:\n",
      "{'class_weight': None, 'n_estimators': 200, 'max_depth': 15}\n",
      "Classifier: Nearest Neighbour => Wieghted F1: 0.7556090243155149\n",
      "Best Params:\n",
      "{'n_neighbors': 5}\n",
      "Best F1 score: 0.7648080179759413\n",
      "Confusion matrix, without normalization\n",
      "[[601  17  17  10  89]\n",
      " [ 27 666   0  39  25]\n",
      " [ 24   1 520 105  96]\n",
      " [ 34   4   2 415 261]\n",
      " [ 22   3   9 155 512]]\n"
     ]
    },
    {
     "data": {
      "image/png": "[encoded data removed]",
      "text/plain": [
       "<matplotlib.figure.Figure at 0x7f25a191f7f0>"
      ]
     },
     "metadata": {
      "needs_background": "light"
     },
     "output_type": "display_data"
    }
   ],
   "source": [
    "# SMOTE oversampling for imabalance data (Can lead to overfitting for minority sometimes)\n",
    "sm = SMOTE(random_state = RANDOM_STATE)\n",
    "Xsmote, ysmote = sm.fit_sample(Xnorm, ynorm)\n",
    "print(\"Class Counts:\", Counter(ysmote))\n",
    "model, score, best_model_smote, best_score = train_model(Xsmote, ysmote, verbose=False)\n",
    "print(\"Best F1 score:\", best_score)\n",
    "retrain_best_param_model_confusion(best_model_smote, Xsmote, ysmote, title=\"Confusion Matrix With SMOTE upsampled Data\")"
   ]
  },
  {
   "cell_type": "code",
   "execution_count": 19,
   "metadata": {},
   "outputs": [
    {
     "name": "stdout",
     "output_type": "stream",
     "text": [
      "Class Counts: Counter({2: 2810, 3: 2533, 4: 1739, 1: 1422, 5: 1351})\n",
      "Classifier: Random Forest => Wieghted F1: 0.834095534426923\n",
      "Best Params:\n",
      "{'class_weight': 'balanced', 'n_estimators': 200, 'max_depth': 15}\n",
      "Classifier: Nearest Neighbour => Wieghted F1: 0.8898096314287747\n",
      "Best Params:\n",
      "{'n_neighbors': 5}\n",
      "Best F1 score: 0.8898096314287747\n",
      "Confusion matrix, without normalization\n",
      "[[335  22   7   6   0]\n",
      " [  0 703   1   0   0]\n",
      " [  0   1 639   1   0]\n",
      " [  1   6  22 400  11]\n",
      " [ 13  45  44  51 156]]\n"
     ]
    },
    {
     "data": {
      "image/png": "[encoded data removed]",
      "text/plain": [
       "<matplotlib.figure.Figure at 0x7f25a1836b00>"
      ]
     },
     "metadata": {
      "needs_background": "light"
     },
     "output_type": "display_data"
    }
   ],
   "source": [
    "smenn = SMOTEENN(random_state = RANDOM_STATE)\n",
    "Xsmotenn, ysmotenn = smenn.fit_sample(Xnorm, ynorm)\n",
    "print(\"Class Counts:\", Counter(ysmotenn))\n",
    "model, score, best_model_smotenn, best_score = train_model(Xsmotenn, ysmotenn, verbose=False)\n",
    "print(\"Best F1 score:\", best_score)\n",
    "retrain_best_param_model_confusion(best_model_smotenn, Xsmotenn, ysmotenn, title=\"Confusion Matrix With SMOTEENN Data\")"
   ]
  },
  {
   "cell_type": "code",
   "execution_count": 20,
   "metadata": {},
   "outputs": [],
   "source": [
    "# Filter outlier\n",
    "pass\n",
    "\n",
    "# Gonna try a deep learning model"
   ]
  },
  {
   "cell_type": "markdown",
   "metadata": {},
   "source": [
    "### Process Test Data"
   ]
  },
  {
   "cell_type": "code",
   "execution_count": 23,
   "metadata": {},
   "outputs": [
    {
     "name": "stdout",
     "output_type": "stream",
     "text": [
      "<class 'pandas.core.frame.DataFrame'>\n",
      "RangeIndex: 1424 entries, 0 to 1423\n",
      "Data columns (total 5 columns):\n",
      "id                  1424 non-null object\n",
      "App Version Code    1151 non-null float64\n",
      "App Version Name    1151 non-null float64\n",
      "Review Text         1423 non-null object\n",
      "Review Title        180 non-null object\n",
      "dtypes: float64(2), object(3)\n",
      "memory usage: 55.7+ KB\n"
     ]
    }
   ],
   "source": [
    "dftest = pd.read_csv(\"test.csv\")\n",
    "dftest.info()\n",
    "\n",
    "dftest.fillna(\"\", inplace=True)\n",
    "dftest['text'] = dftest['Review Title'] + \" \" + dftest['Review Text']\n",
    "dftest.text = dftest.text.apply(clean_text)\n",
    "\n",
    "dftest[\"Star Rating\"] = best_model.predict(tfidf_vectorizer.transform(dftest.text))\n",
    "dftest = dftest[[\"id\", \"Star Rating\"]]\n",
    "dftest.to_csv(\"submission.csv\")"
   ]
  },
  {
   "cell_type": "code",
   "execution_count": null,
   "metadata": {},
   "outputs": [],
   "source": []
  }
 ],
 "metadata": {
  "kernelspec": {
   "display_name": "Python 3",
   "language": "python",
   "name": "python3"
  },
  "language_info": {
   "codemirror_mode": {
    "name": "ipython",
    "version": 3
   },
   "file_extension": ".py",
   "mimetype": "text/x-python",
   "name": "python",
   "nbconvert_exporter": "python",
   "pygments_lexer": "ipython3",
   "version": "3.5.2"
  }
 },
 "nbformat": 4,
 "nbformat_minor": 2
}
